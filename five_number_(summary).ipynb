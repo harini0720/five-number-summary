{
  "nbformat": 4,
  "nbformat_minor": 0,
  "metadata": {
    "colab": {
      "provenance": []
    },
    "kernelspec": {
      "name": "python3",
      "display_name": "Python 3"
    },
    "language_info": {
      "name": "python"
    }
  },
  "cells": [
    {
      "cell_type": "markdown",
      "source": [
        "Task 1\n",
        " data={1,7,4,7,7,5,9,13,15,17,20,60,37,41,33,23,17,19}\n",
        " sol:  min=1\n",
        "       q1=7\n",
        "       median=5\n",
        "       q3=23\n",
        "       max=60\n",
        "    Q1=25/100(n+1)             \n",
        "    Q1=25/100(18)             \n",
        "    Q1=4.5                      \n"
      ],
      "metadata": {
        "id": "0pWaYAo9-lGi"
      }
    },
    {
      "cell_type": "markdown",
      "source": [
        " Q3=75/100(n+1)\n",
        "                  Q3=75/100(18)\n",
        "                    Q3=13.5"
      ],
      "metadata": {
        "id": "J5-cuVYfFoxU"
      }
    },
    {
      "cell_type": "markdown",
      "source": [
        "  LB=7-1.5(16)\n",
        "    =-17\n",
        "\n",
        "  UB=23+1.5(16)\n",
        "  =47    \n"
      ],
      "metadata": {
        "id": "PXnAFaHsBNLb"
      }
    },
    {
      "cell_type": "markdown",
      "source": [
        " 2 data={0,-3,-7,-34,-17,4,7,9,14,17,12,47,-60,70,90}"
      ],
      "metadata": {
        "id": "EJaCI1yGGEr1"
      }
    },
    {
      "cell_type": "markdown",
      "source": [
        "min=-3\n",
        "Q1=-34\n",
        "median=5\n",
        "Q3=17\n",
        "max=90"
      ],
      "metadata": {
        "id": "iEVv25zwHl3W"
      }
    },
    {
      "cell_type": "markdown",
      "source": [
        "LB=-110.5\n",
        "UB=93.5"
      ],
      "metadata": {
        "id": "y8sZhcL8Iqmn"
      }
    }
  ]
}